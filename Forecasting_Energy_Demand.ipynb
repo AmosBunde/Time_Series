{
  "nbformat": 4,
  "nbformat_minor": 0,
  "metadata": {
    "colab": {
      "name": "Forecasting Energy Demand.ipynb",
      "provenance": [],
      "authorship_tag": "ABX9TyMGyQ+Glg/IQ+x2dMcpjbT1",
      "include_colab_link": true
    },
    "kernelspec": {
      "name": "python3",
      "display_name": "Python 3"
    },
    "language_info": {
      "name": "python"
    }
  },
  "cells": [
    {
      "cell_type": "markdown",
      "metadata": {
        "id": "view-in-github",
        "colab_type": "text"
      },
      "source": [
        "<a href=\"https://colab.research.google.com/github/BundeAmos/Time_Series/blob/main/Forecasting_Energy_Demand.ipynb\" target=\"_parent\"><img src=\"https://colab.research.google.com/assets/colab-badge.svg\" alt=\"Open In Colab\"/></a>"
      ]
    },
    {
      "cell_type": "code",
      "metadata": {
        "id": "wwaqJwijaL5J"
      },
      "source": [
        ""
      ],
      "execution_count": null,
      "outputs": []
    },
    {
      "cell_type": "markdown",
      "metadata": {
        "id": "8mMELW2aajTh"
      },
      "source": [
        "\n",
        "\n",
        "\n",
        "\n",
        "\n",
        "\n",
        "\n",
        "\n",
        "\n",
        "\n",
        "\n",
        "Markdown\n",
        "\n",
        "Python 3\n",
        "Forecasting Energy Demand\n",
        "#  Forecasting Energy Demand\n",
        "Importing Necessary Libraries and Functions\n",
        "The first thing we need to do is import the necessary functions and libraries that we will be working with throughout the topic. We should also go ahead and upload all the of the necessary data sets here instead of loading them as we go. We will be using energy production data from PJM Interconnection. They are a regional transmission organization that coordinates the movement of wholesale electricity in parts of the United States. Specifically, we will be focused on a region of Pennsylvania. We will also be using temperature data collected from the National Oceanic and Atmospheric Assocation (NOAA)."
      ]
    },
    {
      "cell_type": "code",
      "metadata": {
        "id": "QAi9ujnmamC9"
      },
      "source": [
        "import pandas as pd\n",
        "import numpy as np\n",
        "import matplotlib.pyplot as plt"
      ],
      "execution_count": 2,
      "outputs": []
    },
    {
      "cell_type": "markdown",
      "metadata": {
        "id": "VV4-JtLkazhX"
      },
      "source": [
        "# Preparing the Energy and Temperature Data"
      ]
    },
    {
      "cell_type": "code",
      "metadata": {
        "id": "x5LHmC08ayRG"
      },
      "source": [
        "# Loading the Needed Data Sets \n",
        "weather = pd.read_csv('/content/My_Sample_data/hr_temp_1_subset.csv')\n",
        "energy = pd.read_csv('/content/My_Sample_data/hrl_load_metered.csv')\n"
      ],
      "execution_count": 3,
      "outputs": []
    },
    {
      "cell_type": "code",
      "metadata": {
        "colab": {
          "base_uri": "https://localhost:8080/",
          "height": 195
        },
        "id": "AWy9ykg0cP-C",
        "outputId": "ff951f2a-3fdc-497f-ebba-19dec385d820"
      },
      "source": [
        "weather.head()"
      ],
      "execution_count": 4,
      "outputs": [
        {
          "output_type": "execute_result",
          "data": {
            "text/html": [
              "<div>\n",
              "<style scoped>\n",
              "    .dataframe tbody tr th:only-of-type {\n",
              "        vertical-align: middle;\n",
              "    }\n",
              "\n",
              "    .dataframe tbody tr th {\n",
              "        vertical-align: top;\n",
              "    }\n",
              "\n",
              "    .dataframe thead th {\n",
              "        text-align: right;\n",
              "    }\n",
              "</style>\n",
              "<table border=\"1\" class=\"dataframe\">\n",
              "  <thead>\n",
              "    <tr style=\"text-align: right;\">\n",
              "      <th></th>\n",
              "      <th>STATION</th>\n",
              "      <th>DATE</th>\n",
              "      <th>REPORT_TYPE</th>\n",
              "      <th>SOURCE</th>\n",
              "      <th>HourlyDryBulbTemperature</th>\n",
              "    </tr>\n",
              "  </thead>\n",
              "  <tbody>\n",
              "    <tr>\n",
              "      <th>0</th>\n",
              "      <td>72520514762</td>\n",
              "      <td>2017-02-01T00:53:00</td>\n",
              "      <td>FM-15</td>\n",
              "      <td>7</td>\n",
              "      <td>37.0</td>\n",
              "    </tr>\n",
              "    <tr>\n",
              "      <th>1</th>\n",
              "      <td>72520514762</td>\n",
              "      <td>2017-02-01T01:53:00</td>\n",
              "      <td>FM-15</td>\n",
              "      <td>7</td>\n",
              "      <td>37.0</td>\n",
              "    </tr>\n",
              "    <tr>\n",
              "      <th>2</th>\n",
              "      <td>72520514762</td>\n",
              "      <td>2017-02-01T02:53:00</td>\n",
              "      <td>FM-15</td>\n",
              "      <td>7</td>\n",
              "      <td>36.0</td>\n",
              "    </tr>\n",
              "    <tr>\n",
              "      <th>3</th>\n",
              "      <td>72520514762</td>\n",
              "      <td>2017-02-01T03:53:00</td>\n",
              "      <td>FM-15</td>\n",
              "      <td>7</td>\n",
              "      <td>36.0</td>\n",
              "    </tr>\n",
              "    <tr>\n",
              "      <th>4</th>\n",
              "      <td>72520514762</td>\n",
              "      <td>2017-02-01T04:53:00</td>\n",
              "      <td>FM-15</td>\n",
              "      <td>7</td>\n",
              "      <td>36.0</td>\n",
              "    </tr>\n",
              "  </tbody>\n",
              "</table>\n",
              "</div>"
            ],
            "text/plain": [
              "       STATION                 DATE  ... SOURCE  HourlyDryBulbTemperature\n",
              "0  72520514762  2017-02-01T00:53:00  ...      7                      37.0\n",
              "1  72520514762  2017-02-01T01:53:00  ...      7                      37.0\n",
              "2  72520514762  2017-02-01T02:53:00  ...      7                      36.0\n",
              "3  72520514762  2017-02-01T03:53:00  ...      7                      36.0\n",
              "4  72520514762  2017-02-01T04:53:00  ...      7                      36.0\n",
              "\n",
              "[5 rows x 5 columns]"
            ]
          },
          "metadata": {
            "tags": []
          },
          "execution_count": 4
        }
      ]
    },
    {
      "cell_type": "code",
      "metadata": {
        "colab": {
          "base_uri": "https://localhost:8080/",
          "height": 195
        },
        "id": "0myMkN1VcTfJ",
        "outputId": "2761b878-24ac-464e-d86f-f6b08707bd67"
      },
      "source": [
        "energy.head()"
      ],
      "execution_count": 5,
      "outputs": [
        {
          "output_type": "execute_result",
          "data": {
            "text/html": [
              "<div>\n",
              "<style scoped>\n",
              "    .dataframe tbody tr th:only-of-type {\n",
              "        vertical-align: middle;\n",
              "    }\n",
              "\n",
              "    .dataframe tbody tr th {\n",
              "        vertical-align: top;\n",
              "    }\n",
              "\n",
              "    .dataframe thead th {\n",
              "        text-align: right;\n",
              "    }\n",
              "</style>\n",
              "<table border=\"1\" class=\"dataframe\">\n",
              "  <thead>\n",
              "    <tr style=\"text-align: right;\">\n",
              "      <th></th>\n",
              "      <th>datetime_beginning_utc</th>\n",
              "      <th>datetime_beginning_ept</th>\n",
              "      <th>nerc_region</th>\n",
              "      <th>mkt_region</th>\n",
              "      <th>zone</th>\n",
              "      <th>load_area</th>\n",
              "      <th>mw</th>\n",
              "      <th>is_verified</th>\n",
              "    </tr>\n",
              "  </thead>\n",
              "  <tbody>\n",
              "    <tr>\n",
              "      <th>0</th>\n",
              "      <td>2/1/2017 5:00</td>\n",
              "      <td>2/1/2017 0:00</td>\n",
              "      <td>RFC</td>\n",
              "      <td>WEST</td>\n",
              "      <td>DUQ</td>\n",
              "      <td>DUQ</td>\n",
              "      <td>1419.881</td>\n",
              "      <td>True</td>\n",
              "    </tr>\n",
              "    <tr>\n",
              "      <th>1</th>\n",
              "      <td>2/1/2017 6:00</td>\n",
              "      <td>2/1/2017 1:00</td>\n",
              "      <td>RFC</td>\n",
              "      <td>WEST</td>\n",
              "      <td>DUQ</td>\n",
              "      <td>DUQ</td>\n",
              "      <td>1379.505</td>\n",
              "      <td>True</td>\n",
              "    </tr>\n",
              "    <tr>\n",
              "      <th>2</th>\n",
              "      <td>2/1/2017 7:00</td>\n",
              "      <td>2/1/2017 2:00</td>\n",
              "      <td>RFC</td>\n",
              "      <td>WEST</td>\n",
              "      <td>DUQ</td>\n",
              "      <td>DUQ</td>\n",
              "      <td>1366.106</td>\n",
              "      <td>True</td>\n",
              "    </tr>\n",
              "    <tr>\n",
              "      <th>3</th>\n",
              "      <td>2/1/2017 8:00</td>\n",
              "      <td>2/1/2017 3:00</td>\n",
              "      <td>RFC</td>\n",
              "      <td>WEST</td>\n",
              "      <td>DUQ</td>\n",
              "      <td>DUQ</td>\n",
              "      <td>1364.453</td>\n",
              "      <td>True</td>\n",
              "    </tr>\n",
              "    <tr>\n",
              "      <th>4</th>\n",
              "      <td>2/1/2017 9:00</td>\n",
              "      <td>2/1/2017 4:00</td>\n",
              "      <td>RFC</td>\n",
              "      <td>WEST</td>\n",
              "      <td>DUQ</td>\n",
              "      <td>DUQ</td>\n",
              "      <td>1391.265</td>\n",
              "      <td>True</td>\n",
              "    </tr>\n",
              "  </tbody>\n",
              "</table>\n",
              "</div>"
            ],
            "text/plain": [
              "  datetime_beginning_utc datetime_beginning_ept  ...        mw is_verified\n",
              "0          2/1/2017 5:00          2/1/2017 0:00  ...  1419.881        True\n",
              "1          2/1/2017 6:00          2/1/2017 1:00  ...  1379.505        True\n",
              "2          2/1/2017 7:00          2/1/2017 2:00  ...  1366.106        True\n",
              "3          2/1/2017 8:00          2/1/2017 3:00  ...  1364.453        True\n",
              "4          2/1/2017 9:00          2/1/2017 4:00  ...  1391.265        True\n",
              "\n",
              "[5 rows x 8 columns]"
            ]
          },
          "metadata": {
            "tags": []
          },
          "execution_count": 5
        }
      ]
    },
    {
      "cell_type": "code",
      "metadata": {
        "id": "TFg1cNoPcYqo"
      },
      "source": [
        "data = {'MW': energy['mw'], 'Temp': weather['HourlyDryBulbTemperature'], 'Date': weather['DATE']}"
      ],
      "execution_count": 6,
      "outputs": []
    },
    {
      "cell_type": "code",
      "metadata": {
        "id": "KDF9TEfqcc_i"
      },
      "source": [
        "df = pd.DataFrame(data)"
      ],
      "execution_count": 7,
      "outputs": []
    },
    {
      "cell_type": "code",
      "metadata": {
        "colab": {
          "base_uri": "https://localhost:8080/"
        },
        "id": "WPbtwEIJcgxQ",
        "outputId": "554a20d4-8b3e-47f4-9b1a-aeef6e92529d"
      },
      "source": [
        "print(df.dtypes)"
      ],
      "execution_count": 8,
      "outputs": [
        {
          "output_type": "stream",
          "text": [
            "MW      float64\n",
            "Temp    float64\n",
            "Date     object\n",
            "dtype: object\n"
          ],
          "name": "stdout"
        }
      ]
    },
    {
      "cell_type": "code",
      "metadata": {
        "colab": {
          "base_uri": "https://localhost:8080/"
        },
        "id": "TKRU4eu6ck6o",
        "outputId": "48944ea9-807e-42e8-c3ee-a522b692e097"
      },
      "source": [
        "df['Date'] = pd.to_datetime(df['Date'])\n",
        "print(df.dtypes)"
      ],
      "execution_count": 9,
      "outputs": [
        {
          "output_type": "stream",
          "text": [
            "MW             float64\n",
            "Temp           float64\n",
            "Date    datetime64[ns]\n",
            "dtype: object\n"
          ],
          "name": "stdout"
        }
      ]
    },
    {
      "cell_type": "code",
      "metadata": {
        "colab": {
          "base_uri": "https://localhost:8080/",
          "height": 195
        },
        "id": "HDgDRm9ScofA",
        "outputId": "31994656-bcc7-4c21-9c16-8bc257e26780"
      },
      "source": [
        "df['hour'] = pd.DatetimeIndex(pd.to_datetime(df['Date'])).hour\n",
        "df['day'] = pd.DatetimeIndex(pd.to_datetime(df['Date'])).day\n",
        "df['weekday'] = df['Date'].dt.dayofweek\n",
        "df['month'] = pd.DatetimeIndex(pd.to_datetime(df['Date'])).month\n",
        "df['year'] = pd.DatetimeIndex(pd.to_datetime(df['Date'])).year\n",
        "\n",
        "df.head()"
      ],
      "execution_count": 10,
      "outputs": [
        {
          "output_type": "execute_result",
          "data": {
            "text/html": [
              "<div>\n",
              "<style scoped>\n",
              "    .dataframe tbody tr th:only-of-type {\n",
              "        vertical-align: middle;\n",
              "    }\n",
              "\n",
              "    .dataframe tbody tr th {\n",
              "        vertical-align: top;\n",
              "    }\n",
              "\n",
              "    .dataframe thead th {\n",
              "        text-align: right;\n",
              "    }\n",
              "</style>\n",
              "<table border=\"1\" class=\"dataframe\">\n",
              "  <thead>\n",
              "    <tr style=\"text-align: right;\">\n",
              "      <th></th>\n",
              "      <th>MW</th>\n",
              "      <th>Temp</th>\n",
              "      <th>Date</th>\n",
              "      <th>hour</th>\n",
              "      <th>day</th>\n",
              "      <th>weekday</th>\n",
              "      <th>month</th>\n",
              "      <th>year</th>\n",
              "    </tr>\n",
              "  </thead>\n",
              "  <tbody>\n",
              "    <tr>\n",
              "      <th>0</th>\n",
              "      <td>1419.881</td>\n",
              "      <td>37.0</td>\n",
              "      <td>2017-02-01 00:53:00</td>\n",
              "      <td>0</td>\n",
              "      <td>1</td>\n",
              "      <td>2</td>\n",
              "      <td>2</td>\n",
              "      <td>2017</td>\n",
              "    </tr>\n",
              "    <tr>\n",
              "      <th>1</th>\n",
              "      <td>1379.505</td>\n",
              "      <td>37.0</td>\n",
              "      <td>2017-02-01 01:53:00</td>\n",
              "      <td>1</td>\n",
              "      <td>1</td>\n",
              "      <td>2</td>\n",
              "      <td>2</td>\n",
              "      <td>2017</td>\n",
              "    </tr>\n",
              "    <tr>\n",
              "      <th>2</th>\n",
              "      <td>1366.106</td>\n",
              "      <td>36.0</td>\n",
              "      <td>2017-02-01 02:53:00</td>\n",
              "      <td>2</td>\n",
              "      <td>1</td>\n",
              "      <td>2</td>\n",
              "      <td>2</td>\n",
              "      <td>2017</td>\n",
              "    </tr>\n",
              "    <tr>\n",
              "      <th>3</th>\n",
              "      <td>1364.453</td>\n",
              "      <td>36.0</td>\n",
              "      <td>2017-02-01 03:53:00</td>\n",
              "      <td>3</td>\n",
              "      <td>1</td>\n",
              "      <td>2</td>\n",
              "      <td>2</td>\n",
              "      <td>2017</td>\n",
              "    </tr>\n",
              "    <tr>\n",
              "      <th>4</th>\n",
              "      <td>1391.265</td>\n",
              "      <td>36.0</td>\n",
              "      <td>2017-02-01 04:53:00</td>\n",
              "      <td>4</td>\n",
              "      <td>1</td>\n",
              "      <td>2</td>\n",
              "      <td>2</td>\n",
              "      <td>2017</td>\n",
              "    </tr>\n",
              "  </tbody>\n",
              "</table>\n",
              "</div>"
            ],
            "text/plain": [
              "         MW  Temp                Date  hour  day  weekday  month  year\n",
              "0  1419.881  37.0 2017-02-01 00:53:00     0    1        2      2  2017\n",
              "1  1379.505  37.0 2017-02-01 01:53:00     1    1        2      2  2017\n",
              "2  1366.106  36.0 2017-02-01 02:53:00     2    1        2      2  2017\n",
              "3  1364.453  36.0 2017-02-01 03:53:00     3    1        2      2  2017\n",
              "4  1391.265  36.0 2017-02-01 04:53:00     4    1        2      2  2017"
            ]
          },
          "metadata": {
            "tags": []
          },
          "execution_count": 10
        }
      ]
    },
    {
      "cell_type": "code",
      "metadata": {
        "id": "N1jYVQbAcr-H"
      },
      "source": [
        "df =df.set_index('Date')"
      ],
      "execution_count": 11,
      "outputs": []
    },
    {
      "cell_type": "code",
      "metadata": {
        "colab": {
          "base_uri": "https://localhost:8080/"
        },
        "id": "NF9T3S1icwSB",
        "outputId": "713c2c57-ec16-46a2-8ce7-d2b430f74fc2"
      },
      "source": [
        "sum(df['Temp'].isnull())"
      ],
      "execution_count": 12,
      "outputs": [
        {
          "output_type": "execute_result",
          "data": {
            "text/plain": [
              "37"
            ]
          },
          "metadata": {
            "tags": []
          },
          "execution_count": 12
        }
      ]
    },
    {
      "cell_type": "code",
      "metadata": {
        "id": "r9vd-UGjczca"
      },
      "source": [
        "df['Temp'] = df['Temp'].interpolate(method='linear')"
      ],
      "execution_count": 13,
      "outputs": []
    },
    {
      "cell_type": "code",
      "metadata": {
        "colab": {
          "base_uri": "https://localhost:8080/"
        },
        "id": "flU30iBFc4ei",
        "outputId": "3557a97a-b307-4123-8dca-73a43bb62e2f"
      },
      "source": [
        "sum(df['Temp'].isnull())"
      ],
      "execution_count": 14,
      "outputs": [
        {
          "output_type": "execute_result",
          "data": {
            "text/plain": [
              "0"
            ]
          },
          "metadata": {
            "tags": []
          },
          "execution_count": 14
        }
      ]
    },
    {
      "cell_type": "code",
      "metadata": {
        "colab": {
          "base_uri": "https://localhost:8080/"
        },
        "id": "IieqLpgVfQxX",
        "outputId": "1ccc60aa-fc9d-43f9-b836-3f5eab74d5c7"
      },
      "source": [
        "sum(df['MW'].isnull())"
      ],
      "execution_count": 17,
      "outputs": [
        {
          "output_type": "execute_result",
          "data": {
            "text/plain": [
              "0"
            ]
          },
          "metadata": {
            "tags": []
          },
          "execution_count": 17
        }
      ]
    },
    {
      "cell_type": "code",
      "metadata": {
        "id": "SSfaeZFle8OK"
      },
      "source": [
        "#Training and Validation Split #\n",
        "train = pd.DataFrame(df['2017-01-01':'2019-12-31'])\n",
        "test = pd.DataFrame(df['2020-01-01':'2020-01-31'])"
      ],
      "execution_count": 15,
      "outputs": []
    },
    {
      "cell_type": "code",
      "metadata": {
        "colab": {
          "base_uri": "https://localhost:8080/",
          "height": 225
        },
        "id": "2MAh_6PQfINZ",
        "outputId": "3de04885-de98-416a-ee46-7a462a5b9914"
      },
      "source": [
        "train.head()"
      ],
      "execution_count": 16,
      "outputs": [
        {
          "output_type": "execute_result",
          "data": {
            "text/html": [
              "<div>\n",
              "<style scoped>\n",
              "    .dataframe tbody tr th:only-of-type {\n",
              "        vertical-align: middle;\n",
              "    }\n",
              "\n",
              "    .dataframe tbody tr th {\n",
              "        vertical-align: top;\n",
              "    }\n",
              "\n",
              "    .dataframe thead th {\n",
              "        text-align: right;\n",
              "    }\n",
              "</style>\n",
              "<table border=\"1\" class=\"dataframe\">\n",
              "  <thead>\n",
              "    <tr style=\"text-align: right;\">\n",
              "      <th></th>\n",
              "      <th>MW</th>\n",
              "      <th>Temp</th>\n",
              "      <th>hour</th>\n",
              "      <th>day</th>\n",
              "      <th>weekday</th>\n",
              "      <th>month</th>\n",
              "      <th>year</th>\n",
              "    </tr>\n",
              "    <tr>\n",
              "      <th>Date</th>\n",
              "      <th></th>\n",
              "      <th></th>\n",
              "      <th></th>\n",
              "      <th></th>\n",
              "      <th></th>\n",
              "      <th></th>\n",
              "      <th></th>\n",
              "    </tr>\n",
              "  </thead>\n",
              "  <tbody>\n",
              "    <tr>\n",
              "      <th>2017-02-01 00:53:00</th>\n",
              "      <td>1419.881</td>\n",
              "      <td>37.0</td>\n",
              "      <td>0</td>\n",
              "      <td>1</td>\n",
              "      <td>2</td>\n",
              "      <td>2</td>\n",
              "      <td>2017</td>\n",
              "    </tr>\n",
              "    <tr>\n",
              "      <th>2017-02-01 01:53:00</th>\n",
              "      <td>1379.505</td>\n",
              "      <td>37.0</td>\n",
              "      <td>1</td>\n",
              "      <td>1</td>\n",
              "      <td>2</td>\n",
              "      <td>2</td>\n",
              "      <td>2017</td>\n",
              "    </tr>\n",
              "    <tr>\n",
              "      <th>2017-02-01 02:53:00</th>\n",
              "      <td>1366.106</td>\n",
              "      <td>36.0</td>\n",
              "      <td>2</td>\n",
              "      <td>1</td>\n",
              "      <td>2</td>\n",
              "      <td>2</td>\n",
              "      <td>2017</td>\n",
              "    </tr>\n",
              "    <tr>\n",
              "      <th>2017-02-01 03:53:00</th>\n",
              "      <td>1364.453</td>\n",
              "      <td>36.0</td>\n",
              "      <td>3</td>\n",
              "      <td>1</td>\n",
              "      <td>2</td>\n",
              "      <td>2</td>\n",
              "      <td>2017</td>\n",
              "    </tr>\n",
              "    <tr>\n",
              "      <th>2017-02-01 04:53:00</th>\n",
              "      <td>1391.265</td>\n",
              "      <td>36.0</td>\n",
              "      <td>4</td>\n",
              "      <td>1</td>\n",
              "      <td>2</td>\n",
              "      <td>2</td>\n",
              "      <td>2017</td>\n",
              "    </tr>\n",
              "  </tbody>\n",
              "</table>\n",
              "</div>"
            ],
            "text/plain": [
              "                           MW  Temp  hour  day  weekday  month  year\n",
              "Date                                                                \n",
              "2017-02-01 00:53:00  1419.881  37.0     0    1        2      2  2017\n",
              "2017-02-01 01:53:00  1379.505  37.0     1    1        2      2  2017\n",
              "2017-02-01 02:53:00  1366.106  36.0     2    1        2      2  2017\n",
              "2017-02-01 03:53:00  1364.453  36.0     3    1        2      2  2017\n",
              "2017-02-01 04:53:00  1391.265  36.0     4    1        2      2  2017"
            ]
          },
          "metadata": {
            "tags": []
          },
          "execution_count": 16
        }
      ]
    },
    {
      "cell_type": "code",
      "metadata": {
        "colab": {
          "base_uri": "https://localhost:8080/",
          "height": 225
        },
        "id": "PkdSw55OfYNj",
        "outputId": "239dc8c7-ccce-4698-ba55-d01a54e7bb98"
      },
      "source": [
        "test.head()"
      ],
      "execution_count": 18,
      "outputs": [
        {
          "output_type": "execute_result",
          "data": {
            "text/html": [
              "<div>\n",
              "<style scoped>\n",
              "    .dataframe tbody tr th:only-of-type {\n",
              "        vertical-align: middle;\n",
              "    }\n",
              "\n",
              "    .dataframe tbody tr th {\n",
              "        vertical-align: top;\n",
              "    }\n",
              "\n",
              "    .dataframe thead th {\n",
              "        text-align: right;\n",
              "    }\n",
              "</style>\n",
              "<table border=\"1\" class=\"dataframe\">\n",
              "  <thead>\n",
              "    <tr style=\"text-align: right;\">\n",
              "      <th></th>\n",
              "      <th>MW</th>\n",
              "      <th>Temp</th>\n",
              "      <th>hour</th>\n",
              "      <th>day</th>\n",
              "      <th>weekday</th>\n",
              "      <th>month</th>\n",
              "      <th>year</th>\n",
              "    </tr>\n",
              "    <tr>\n",
              "      <th>Date</th>\n",
              "      <th></th>\n",
              "      <th></th>\n",
              "      <th></th>\n",
              "      <th></th>\n",
              "      <th></th>\n",
              "      <th></th>\n",
              "      <th></th>\n",
              "    </tr>\n",
              "  </thead>\n",
              "  <tbody>\n",
              "    <tr>\n",
              "      <th>2020-01-01 00:53:00</th>\n",
              "      <td>1363.428</td>\n",
              "      <td>31.0</td>\n",
              "      <td>0</td>\n",
              "      <td>1</td>\n",
              "      <td>2</td>\n",
              "      <td>1</td>\n",
              "      <td>2020</td>\n",
              "    </tr>\n",
              "    <tr>\n",
              "      <th>2020-01-01 01:53:00</th>\n",
              "      <td>1335.975</td>\n",
              "      <td>29.0</td>\n",
              "      <td>1</td>\n",
              "      <td>1</td>\n",
              "      <td>2</td>\n",
              "      <td>1</td>\n",
              "      <td>2020</td>\n",
              "    </tr>\n",
              "    <tr>\n",
              "      <th>2020-01-01 02:53:00</th>\n",
              "      <td>1296.817</td>\n",
              "      <td>30.0</td>\n",
              "      <td>2</td>\n",
              "      <td>1</td>\n",
              "      <td>2</td>\n",
              "      <td>1</td>\n",
              "      <td>2020</td>\n",
              "    </tr>\n",
              "    <tr>\n",
              "      <th>2020-01-01 03:53:00</th>\n",
              "      <td>1288.403</td>\n",
              "      <td>30.0</td>\n",
              "      <td>3</td>\n",
              "      <td>1</td>\n",
              "      <td>2</td>\n",
              "      <td>1</td>\n",
              "      <td>2020</td>\n",
              "    </tr>\n",
              "    <tr>\n",
              "      <th>2020-01-01 04:53:00</th>\n",
              "      <td>1292.263</td>\n",
              "      <td>31.0</td>\n",
              "      <td>4</td>\n",
              "      <td>1</td>\n",
              "      <td>2</td>\n",
              "      <td>1</td>\n",
              "      <td>2020</td>\n",
              "    </tr>\n",
              "  </tbody>\n",
              "</table>\n",
              "</div>"
            ],
            "text/plain": [
              "                           MW  Temp  hour  day  weekday  month  year\n",
              "Date                                                                \n",
              "2020-01-01 00:53:00  1363.428  31.0     0    1        2      1  2020\n",
              "2020-01-01 01:53:00  1335.975  29.0     1    1        2      1  2020\n",
              "2020-01-01 02:53:00  1296.817  30.0     2    1        2      1  2020\n",
              "2020-01-01 03:53:00  1288.403  30.0     3    1        2      1  2020\n",
              "2020-01-01 04:53:00  1292.263  31.0     4    1        2      1  2020"
            ]
          },
          "metadata": {
            "tags": []
          },
          "execution_count": 18
        }
      ]
    },
    {
      "cell_type": "markdown",
      "metadata": {
        "id": "wtdbHhLYafEK"
      },
      "source": [
        ""
      ]
    },
    {
      "cell_type": "markdown",
      "metadata": {
        "id": "Q3PGIfTRaiaW"
      },
      "source": [
        ""
      ]
    }
  ]
}